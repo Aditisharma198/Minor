{
 "cells": [
  {
   "cell_type": "code",
   "execution_count": 1,
   "metadata": {},
   "outputs": [],
   "source": [
    "import pandas as pd\n",
    "import numpy as np\n",
    "from sklearn.model_selection import train_test_split\n",
    "from sklearn.metrics import classification_report\n",
    "import re\n",
    "import string\n",
    "import seaborn as sns\n",
    "import matplotlib.pyplot as plt\n",
    "from sklearn.metrics import accuracy_score\n",
    "from sklearn.feature_extraction.text import TfidfVectorizer"
   ]
  },
  {
   "cell_type": "code",
   "execution_count": 2,
   "metadata": {},
   "outputs": [],
   "source": [
    "df_fake=pd.read_csv(\"Fake.csv\")\n",
    "df_true=pd.read_csv(\"True.csv\")"
   ]
  },
  {
   "cell_type": "code",
   "execution_count": 3,
   "metadata": {},
   "outputs": [],
   "source": [
    "df_fake[\"class\"] = 0\n",
    "df_true[\"class\"] = 1"
   ]
  },
  {
   "cell_type": "code",
   "execution_count": 4,
   "metadata": {},
   "outputs": [],
   "source": [
    "df_marge = pd.concat([df_fake, df_true], axis =0 )"
   ]
  },
  {
   "cell_type": "code",
   "execution_count": 5,
   "metadata": {},
   "outputs": [],
   "source": [
    "df = df_marge.drop([\"title\", \"subject\",\"date\"], axis = 1)"
   ]
  },
  {
   "cell_type": "code",
   "execution_count": 6,
   "metadata": {},
   "outputs": [],
   "source": [
    "df = df.sample(frac = 1)"
   ]
  },
  {
   "cell_type": "code",
   "execution_count": 7,
   "metadata": {},
   "outputs": [],
   "source": [
    "df.reset_index(inplace = True)\n",
    "df.drop([\"index\"], axis = 1, inplace = True)"
   ]
  },
  {
   "cell_type": "code",
   "execution_count": 8,
   "metadata": {},
   "outputs": [],
   "source": [
    "def wordopt(text):\n",
    "    text = text.lower()\n",
    "    text = re.sub('\\[.*?\\]', '', text)\n",
    "    text = re.sub(\"\\\\W\",\" \",text) \n",
    "    text = re.sub('https?://\\S+|www\\.\\S+', '', text)\n",
    "    text = re.sub('<.*?>+', '', text)\n",
    "    text = re.sub('[%s]' % re.escape(string.punctuation), '', text)\n",
    "    text = re.sub('\\n', '', text)\n",
    "    text = re.sub('\\w*\\d\\w*', '', text)    \n",
    "    return text"
   ]
  },
  {
   "cell_type": "code",
   "execution_count": 9,
   "metadata": {},
   "outputs": [],
   "source": [
    "df[\"text\"] = df[\"text\"].apply(wordopt)"
   ]
  },
  {
   "cell_type": "code",
   "execution_count": 10,
   "metadata": {},
   "outputs": [],
   "source": [
    "x = df[\"text\"]\n",
    "y = df[\"class\"]"
   ]
  },
  {
   "cell_type": "code",
   "execution_count": 11,
   "metadata": {},
   "outputs": [],
   "source": [
    "x_train, x_test, y_train, y_test = train_test_split(x, y, test_size=0.25)"
   ]
  },
  {
   "cell_type": "code",
   "execution_count": 12,
   "metadata": {},
   "outputs": [],
   "source": [
    "vectorization = TfidfVectorizer()\n",
    "xv_train = vectorization.fit_transform(x_train)\n",
    "xv_test = vectorization.transform(x_test)"
   ]
  },
  {
   "cell_type": "markdown",
   "metadata": {},
   "source": [
    "# LOGISTIC REGRESSION"
   ]
  },
  {
   "cell_type": "code",
   "execution_count": 13,
   "metadata": {},
   "outputs": [],
   "source": [
    "from sklearn.linear_model import LogisticRegression"
   ]
  },
  {
   "cell_type": "code",
   "execution_count": 14,
   "metadata": {},
   "outputs": [
    {
     "data": {
      "text/plain": [
       "LogisticRegression()"
      ]
     },
     "execution_count": 14,
     "metadata": {},
     "output_type": "execute_result"
    }
   ],
   "source": [
    "LR = LogisticRegression()\n",
    "LR.fit(xv_train,y_train)"
   ]
  },
  {
   "cell_type": "code",
   "execution_count": 15,
   "metadata": {},
   "outputs": [],
   "source": [
    "pred_lr=LR.predict(xv_test)"
   ]
  },
  {
   "cell_type": "code",
   "execution_count": 16,
   "metadata": {},
   "outputs": [
    {
     "name": "stdout",
     "output_type": "stream",
     "text": [
      "Test score: 98.69 %\n",
      "              precision    recall  f1-score   support\n",
      "\n",
      "           0       0.99      0.99      0.99      5916\n",
      "           1       0.98      0.99      0.99      5309\n",
      "\n",
      "    accuracy                           0.99     11225\n",
      "   macro avg       0.99      0.99      0.99     11225\n",
      "weighted avg       0.99      0.99      0.99     11225\n",
      "\n"
     ]
    }
   ],
   "source": [
    "sc=LR.score(xv_test, y_test)\n",
    "print(\"Test score: {0:.2f} %\".format(100 * sc))\n",
    "print(classification_report(y_test, pred_lr))"
   ]
  },
  {
   "cell_type": "code",
   "execution_count": 17,
   "metadata": {},
   "outputs": [],
   "source": [
    "def output_lable(n):\n",
    "    if n == 0:\n",
    "        return \"Fake News\"\n",
    "    elif n == 1:\n",
    "        return \"Not A Fake News\"\n",
    "    \n",
    "def manual_testing(news):\n",
    "    testing_news = {\"text\":[news]}\n",
    "    new_def_test = pd.DataFrame(testing_news)\n",
    "    new_def_test[\"text\"] = new_def_test[\"text\"].apply(wordopt) \n",
    "    new_x_test = new_def_test[\"text\"]\n",
    "    new_xv_test = vectorization.transform(new_x_test)\n",
    "    pred_LR = LR.predict(new_xv_test)\n",
    "\n",
    "    return print(\"\\n\\nLR Prediction: {} \".format(output_lable(pred_LR[0]),))\n"
   ]
  },
  {
   "cell_type": "code",
   "execution_count": 18,
   "metadata": {},
   "outputs": [
    {
     "name": "stdout",
     "output_type": "stream",
     "text": [
      "President Joe Biden stepped up the pressure on Israel to end 10 days of violent skirmishes with Palestinians, making clear in a call Wednesday with Prime Minister Benjamin Netanyahu that he expected “significant de-escalation” by day’s end.  Biden asked Netanyahu to move “toward the path to a cease-fire,” according to a White House description of their conversation.  There is pressure, too, on Biden to do more, with more than 200 people killed in the fighting. Until Wednesday, Biden had avoided pushing the American ally more directly and publicly for a cease-fire or conveyed such a level of urgency for ending Israeli airstrikes targeting Hamas in the thickly populated Gaza Strip.  The Biden administration had relied on what officials described as “quiet, intensive” diplomacy, including quashing a U.N. Security Council statement that would have addressed a cease-fire. The administration’s handling opened a divide between Biden and Democratic lawmakers, dozens of whom have called for a cease-fire. Israeli airstrikes kill 6, level large family home in Gaza  Israeli airstrikes killed at least six people across the Gaza Strip and destroyed the home of an extended family early Wednesday. The military said it widened its strikes in the Palestinian territory’s south to blunt continuing rocket fire from Hamas, while a separate barrage also came from Lebanon.  For the third time since the war began, rockets were launched Israel from the north. The Israeli military said one landed in an open area, two landed in the sea, and one was intercepted by aerial defenses. Lebanese security officials said the latest rockets were launched from the outskirts of the southern Lebanese village of Qlayleh, adding that four fell inside Lebanese territory. The officials spoke on condition of anonymity in line with regulations. People inspect the rubble of destroyed the Abu Hussein building that was hit by an Israeli airstrike early morning, in Gaza City, Wednesday, May 19, 2021. (AP)  In southern Gaza, meanwhile, residents surveyed the piles of bricks, concrete and other debris that had once been the home of 40 members of al-Astal family. They said a warning missile struck the building in the town of Khan Younis five minutes before the airstrike, allowing everyone to escape.  Ahmed al-Astal, a university professor, described a scene of panic before the airstrike hit, with men, women and children racing out of the building. Some of the women didn’t even have time to cover their hair with Muslim headscarves, he said. Read |Hundreds of thousands in Gaza face shortages of clean water and medicine  “We had just gotten down to the street, breathless, when the devastating bombardment came,” he said. “They left nothing but destruction, the children’s cries filling the street. … This is happening, and there is no one to help us. We ask God to help us.”  The Israeli military said it struck a militant tunnel network around the towns of Khan Younis and Rafah, with 52 aircraft hitting 40 underground targets. Gaza’s Health Ministry said a woman was killed and eight people were wounded in those strikes.\n",
      "\n",
      "\n",
      "LR Prediction: Not A Fake News \n"
     ]
    }
   ],
   "source": [
    "news = str(input())\n",
    "manual_testing(news)"
   ]
  },
  {
   "cell_type": "code",
   "execution_count": 19,
   "metadata": {},
   "outputs": [],
   "source": [
    "import pickle\n",
    "pickle.dump(LR,open('model.pkl', 'wb'))"
   ]
  },
  {
   "cell_type": "code",
   "execution_count": 20,
   "metadata": {},
   "outputs": [
    {
     "name": "stdout",
     "output_type": "stream",
     "text": [
      "Test score: 98.69 %\n"
     ]
    }
   ],
   "source": [
    "# load the model from disk\n",
    "loaded_model = pickle.load(open('model.pkl', 'rb'))\n",
    "score = loaded_model.score(xv_test, y_test)\n",
    "print(\"Test score: {0:.2f} %\".format(100 * score))\n",
    "\n",
    "def model_testing(news):\n",
    "    testing_news = {\"text\":[news]}\n",
    "    new_def_test = pd.DataFrame(testing_news)\n",
    "    new_def_test[\"text\"] = new_def_test[\"text\"].apply(wordopt) \n",
    "    new_x_test = new_def_test[\"text\"]\n",
    "    new_xv_test = vectorization.transform(new_x_test)\n",
    "    pred_LR1 = loaded_model.predict(new_xv_test)\n",
    "\n",
    "    return print(\"\\n\\nModel Prediction: {} \".format(output_lable(pred_LR1[0]),))"
   ]
  },
  {
   "cell_type": "code",
   "execution_count": 21,
   "metadata": {},
   "outputs": [
    {
     "name": "stdout",
     "output_type": "stream",
     "text": [
      "President Joe Biden stepped up the pressure on Israel to end 10 days of violent skirmishes with Palestinians, making clear in a call Wednesday with Prime Minister Benjamin Netanyahu that he expected “significant de-escalation” by day’s end.  Biden asked Netanyahu to move “toward the path to a cease-fire,” according to a White House description of their conversation.  There is pressure, too, on Biden to do more, with more than 200 people killed in the fighting. Until Wednesday, Biden had avoided pushing the American ally more directly and publicly for a cease-fire or conveyed such a level of urgency for ending Israeli airstrikes targeting Hamas in the thickly populated Gaza Strip.  The Biden administration had relied on what officials described as “quiet, intensive” diplomacy, including quashing a U.N. Security Council statement that would have addressed a cease-fire. The administration’s handling opened a divide between Biden and Democratic lawmakers, dozens of whom have called for a cease-fire. Israeli airstrikes kill 6, level large family home in Gaza  Israeli airstrikes killed at least six people across the Gaza Strip and destroyed the home of an extended family early Wednesday. The military said it widened its strikes in the Palestinian territory’s south to blunt continuing rocket fire from Hamas, while a separate barrage also came from Lebanon.  For the third time since the war began, rockets were launched Israel from the north. The Israeli military said one landed in an open area, two landed in the sea, and one was intercepted by aerial defenses. Lebanese security officials said the latest rockets were launched from the outskirts of the southern Lebanese village of Qlayleh, adding that four fell inside Lebanese territory. The officials spoke on condition of anonymity in line with regulations. People inspect the rubble of destroyed the Abu Hussein building that was hit by an Israeli airstrike early morning, in Gaza City, Wednesday, May 19, 2021. (AP)  In southern Gaza, meanwhile, residents surveyed the piles of bricks, concrete and other debris that had once been the home of 40 members of al-Astal family. They said a warning missile struck the building in the town of Khan Younis five minutes before the airstrike, allowing everyone to escape.  Ahmed al-Astal, a university professor, described a scene of panic before the airstrike hit, with men, women and children racing out of the building. Some of the women didn’t even have time to cover their hair with Muslim headscarves, he said. Read |Hundreds of thousands in Gaza face shortages of clean water and medicine  “We had just gotten down to the street, breathless, when the devastating bombardment came,” he said. “They left nothing but destruction, the children’s cries filling the street. … This is happening, and there is no one to help us. We ask God to help us.”  The Israeli military said it struck a militant tunnel network around the towns of Khan Younis and Rafah, with 52 aircraft hitting 40 underground targets. Gaza’s Health Ministry said a woman was killed and eight people were wounded in those strikes.\n",
      "\n",
      "\n",
      "LR Prediction: Not A Fake News \n"
     ]
    }
   ],
   "source": [
    "news = str(input())\n",
    "model_testing(news)"
   ]
  }
 ],
 "metadata": {
  "kernelspec": {
   "display_name": "Python 3",
   "language": "python",
   "name": "python3"
  },
  "language_info": {
   "codemirror_mode": {
    "name": "ipython",
    "version": 3
   },
   "file_extension": ".py",
   "mimetype": "text/x-python",
   "name": "python",
   "nbconvert_exporter": "python",
   "pygments_lexer": "ipython3",
   "version": "3.8.5"
  }
 },
 "nbformat": 4,
 "nbformat_minor": 4
}
