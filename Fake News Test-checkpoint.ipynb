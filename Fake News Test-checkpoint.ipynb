{
 "cells": [
  {
   "cell_type": "code",
   "execution_count": 1,
   "metadata": {},
   "outputs": [],
   "source": [
    "import pandas as pd\n",
    "import numpy as np\n",
    "from sklearn.model_selection import train_test_split\n",
    "from sklearn.metrics import classification_report\n",
    "import re\n",
    "import string\n",
    "import seaborn as sns\n",
    "import matplotlib.pyplot as plt\n",
    "from sklearn.metrics import accuracy_score\n",
    "from sklearn.feature_extraction.text import TfidfVectorizer"
   ]
  },
  {
   "cell_type": "code",
   "execution_count": 2,
   "metadata": {},
   "outputs": [],
   "source": [
    "df_fake=pd.read_csv(\"Fake.csv\")\n",
    "df_true=pd.read_csv(\"True.csv\")"
   ]
  },
  {
   "cell_type": "code",
   "execution_count": 3,
   "metadata": {},
   "outputs": [],
   "source": [
    "df_fake[\"class\"] = 0\n",
    "df_true[\"class\"] = 1"
   ]
  },
  {
   "cell_type": "code",
   "execution_count": 4,
   "metadata": {},
   "outputs": [],
   "source": [
    "df_marge = pd.concat([df_fake, df_true], axis =0 )"
   ]
  },
  {
   "cell_type": "code",
   "execution_count": 5,
   "metadata": {},
   "outputs": [],
   "source": [
    "df = df_marge.drop([\"title\", \"subject\",\"date\"], axis = 1)"
   ]
  },
  {
   "cell_type": "code",
   "execution_count": 6,
   "metadata": {},
   "outputs": [],
   "source": [
    "df = df.sample(frac = 1)"
   ]
  },
  {
   "cell_type": "code",
   "execution_count": 7,
   "metadata": {},
   "outputs": [],
   "source": [
    "df.reset_index(inplace = True)\n",
    "df.drop([\"index\"], axis = 1, inplace = True)"
   ]
  },
  {
   "cell_type": "code",
   "execution_count": 8,
   "metadata": {},
   "outputs": [],
   "source": [
    "def wordopt(text):\n",
    "    text = text.lower()\n",
    "    text = re.sub('\\[.*?\\]', '', text)\n",
    "    text = re.sub(\"\\\\W\",\" \",text) \n",
    "    text = re.sub('https?://\\S+|www\\.\\S+', '', text)\n",
    "    text = re.sub('<.*?>+', '', text)\n",
    "    text = re.sub('[%s]' % re.escape(string.punctuation), '', text)\n",
    "    text = re.sub('\\n', '', text)\n",
    "    text = re.sub('\\w*\\d\\w*', '', text)    \n",
    "    return text"
   ]
  },
  {
   "cell_type": "code",
   "execution_count": 9,
   "metadata": {},
   "outputs": [],
   "source": [
    "df[\"text\"] = df[\"text\"].apply(wordopt)"
   ]
  },
  {
   "cell_type": "code",
   "execution_count": 10,
   "metadata": {},
   "outputs": [],
   "source": [
    "x = df[\"text\"]\n",
    "y = df[\"class\"]"
   ]
  },
  {
   "cell_type": "code",
   "execution_count": 11,
   "metadata": {},
   "outputs": [],
   "source": [
    "x_train, x_test, y_train, y_test = train_test_split(x, y, test_size=0.25)"
   ]
  },
  {
   "cell_type": "code",
   "execution_count": 12,
   "metadata": {},
   "outputs": [],
   "source": [
    "vectorization = TfidfVectorizer()\n",
    "xv_train = vectorization.fit_transform(x_train)\n",
    "xv_test = vectorization.transform(x_test)"
   ]
  },
  {
   "cell_type": "markdown",
   "metadata": {},
   "source": [
    "# LOGISTIC REGRESSION"
   ]
  },
  {
   "cell_type": "code",
   "execution_count": 13,
   "metadata": {},
   "outputs": [],
   "source": [
    "from sklearn.linear_model import LogisticRegression"
   ]
  },
  {
   "cell_type": "code",
   "execution_count": 14,
   "metadata": {},
   "outputs": [
    {
     "data": {
      "text/plain": [
       "LogisticRegression()"
      ]
     },
     "execution_count": 14,
     "metadata": {},
     "output_type": "execute_result"
    }
   ],
   "source": [
    "LR = LogisticRegression()\n",
    "LR.fit(xv_train,y_train)"
   ]
  },
  {
   "cell_type": "code",
   "execution_count": 15,
   "metadata": {},
   "outputs": [],
   "source": [
    "pred_lr=LR.predict(xv_test)"
   ]
  },
  {
   "cell_type": "code",
   "execution_count": 16,
   "metadata": {},
   "outputs": [
    {
     "name": "stdout",
     "output_type": "stream",
     "text": [
      "Test score: 98.68 %\n",
      "              precision    recall  f1-score   support\n",
      "\n",
      "           0       0.99      0.99      0.99      5801\n",
      "           1       0.98      0.99      0.99      5424\n",
      "\n",
      "    accuracy                           0.99     11225\n",
      "   macro avg       0.99      0.99      0.99     11225\n",
      "weighted avg       0.99      0.99      0.99     11225\n",
      "\n"
     ]
    }
   ],
   "source": [
    "sc=LR.score(xv_test, y_test)\n",
    "print(\"Test score: {0:.2f} %\".format(100 * sc))\n",
    "print(classification_report(y_test, pred_lr))"
   ]
  },
  {
   "cell_type": "code",
   "execution_count": 17,
   "metadata": {},
   "outputs": [],
   "source": [
    "def output_lable(n):\n",
    "    if n == 0:\n",
    "        return \"Fake News\"\n",
    "    elif n == 1:\n",
    "        return \"Not A Fake News\"\n",
    "    \n",
    "def manual_testing(news):\n",
    "    testing_news = {\"text\":[news]}\n",
    "    new_def_test = pd.DataFrame(testing_news)\n",
    "    new_def_test[\"text\"] = new_def_test[\"text\"].apply(wordopt) \n",
    "    new_x_test = new_def_test[\"text\"]\n",
    "    new_xv_test = vectorization.transform(new_x_test)\n",
    "    pred_LR = LR.predict(new_xv_test)\n",
    "\n",
    "    return print(\"\\n\\nLR Prediction: {} \".format(output_lable(pred_LR[0]),))\n"
   ]
  },
  {
   "cell_type": "code",
   "execution_count": 18,
   "metadata": {},
   "outputs": [
    {
     "name": "stdout",
     "output_type": "stream",
     "text": [
      "White House and Kremlin working to arrange Biden-Putin summit in Geneva AP | , Washington PUBLISHED ON MAY 24, 2021 08:52 PM IST      The Biden first administration called for the summit last month after Russia engaged in a series of confrontational actions  The White House and the Kremlin are working to arrange a summit next month between President Joe Biden and Russian President Vladimir Putin in Switzerland, according to officials.  National Security Advisor Jake Sullivan is meeting with his Russian counterpart in Geneva, the proposed host city, this week to finalize details, according to one official familiar with the preliminary planning but not authorized to discuss the deliberations publicly. Geneva is now expected to be the choice for Biden first face-to-face meeting with Putin as president, according to a second official.  An official announcement was expected in the coming days.  The summit would come at the end of Biden’s first foreign trip as president, a week-long swing through Europe that includes a stop in the United Kingdom for a Group of Seven summit of leaders of the world’s richest nations, and then a visit to the Brussels headquarters of NATO, the longstanding military alliance built as a bulwark to Russian aggression. MORE FROM THIS SECTION      US Secretary of State Antony Blinken will travel to Jerusalem, Ramallah, Cairo and Amman through Thursday and meet with Israeli Prime Minister Benjamin Netanyahu, Palestinian Authority President Mahmoud Abbas, Egyptian President Abdel Fattah Al-Sisi and Jordans King Abdullah.      US says primary focus is to ensure ceasefire holds, aid delivered to Gaza     This photo taken on February 3, 2021 shows the Wuhan Institute of Virology in Chinas central Hubei province. (AFP)      China denies WSJ story on researchers falling sick at Wuhan lab     “We have to have institutions that are up to the task, that meet our ambitions,” French President Emmanuel Macron said by video during the mostly virtual meeting.      France, Germany back efforts to improve WHO as meeting opens     Bangladesh is keen to see the Rohingya go back to Myanmar from the huge camps (AP Photo, File)      Myanmar junta leader casts doubt on return of Rohingya refugees  A spokeswoman for the National Security Council declined to comment on the summit logistics.  But, in a statement, the NSC said this week's meeting between Sullivan and the Secretary of the Russian Security Council, Nikolay Patrushev, “was an important step in the preparation for a planned US-Russia summit” and deemed the discussions “constructive” despite “outstanding differences.”  The Biden first administration called for the summit last month after Russia engaged in a series of confrontational actions: temporarily amassing troops on the Ukrainian border, the SolarWinds hacking, reports of bounties placed on US troops in Afghanistan and the poisoning and imprisonment of opposition leader Alexei Navalny.\n",
      "\n",
      "\n",
      "LR Prediction: Not A Fake News \n"
     ]
    }
   ],
   "source": [
    "news = str(input())\n",
    "manual_testing(news)"
   ]
  },
  {
   "cell_type": "code",
   "execution_count": 19,
   "metadata": {},
   "outputs": [],
   "source": [
    "import pickle\n",
    "pickle.dump(LR,open('model.pkl', 'wb'))"
   ]
  },
  {
   "cell_type": "code",
   "execution_count": 20,
   "metadata": {},
   "outputs": [
    {
     "name": "stdout",
     "output_type": "stream",
     "text": [
      "Test score: 98.68 %\n"
     ]
    }
   ],
   "source": [
    "# load the model from disk\n",
    "loaded_model = pickle.load(open('model.pkl', 'rb'))\n",
    "score = loaded_model.score(xv_test, y_test)\n",
    "print(\"Test score: {0:.2f} %\".format(100 * score))\n",
    "\n",
    "def model_testing(news):\n",
    "    testing_news = {\"text\":[news]}\n",
    "    new_def_test = pd.DataFrame(testing_news)\n",
    "    new_def_test[\"text\"] = new_def_test[\"text\"].apply(wordopt) \n",
    "    new_x_test = new_def_test[\"text\"]\n",
    "    new_xv_test = vectorization.transform(new_x_test)\n",
    "    pred_LR1 = loaded_model.predict(new_xv_test)\n",
    "\n",
    "    return print(\"\\n\\nModel Prediction: {} \".format(output_lable(pred_LR1[0]),))"
   ]
  },
  {
   "cell_type": "code",
   "execution_count": 21,
   "metadata": {},
   "outputs": [
    {
     "name": "stdout",
     "output_type": "stream",
     "text": [
      "White House and Kremlin working to arrange Biden-Putin summit in Geneva AP | , Washington PUBLISHED ON MAY 24, 2021 08:52 PM IST      The Biden first administration called for the summit last month after Russia engaged in a series of confrontational actions  The White House and the Kremlin are working to arrange a summit next month between President Joe Biden and Russian President Vladimir Putin in Switzerland, according to officials.  National Security Advisor Jake Sullivan is meeting with his Russian counterpart in Geneva, the proposed host city, this week to finalize details, according to one official familiar with the preliminary planning but not authorized to discuss the deliberations publicly. Geneva is now expected to be the choice for Biden first face-to-face meeting with Putin as president, according to a second official.  An official announcement was expected in the coming days.  The summit would come at the end of Biden’s first foreign trip as president, a week-long swing through Europe that includes a stop in the United Kingdom for a Group of Seven summit of leaders of the world’s richest nations, and then a visit to the Brussels headquarters of NATO, the longstanding military alliance built as a bulwark to Russian aggression. MORE FROM THIS SECTION      US Secretary of State Antony Blinken will travel to Jerusalem, Ramallah, Cairo and Amman through Thursday and meet with Israeli Prime Minister Benjamin Netanyahu, Palestinian Authority President Mahmoud Abbas, Egyptian President Abdel Fattah Al-Sisi and Jordans King Abdullah.      US says primary focus is to ensure ceasefire holds, aid delivered to Gaza     This photo taken on February 3, 2021 shows the Wuhan Institute of Virology in Chinas central Hubei province. (AFP)      China denies WSJ story on researchers falling sick at Wuhan lab     “We have to have institutions that are up to the task, that meet our ambitions,” French President Emmanuel Macron said by video during the mostly virtual meeting.      France, Germany back efforts to improve WHO as meeting opens     Bangladesh is keen to see the Rohingya go back to Myanmar from the huge camps (AP Photo, File)      Myanmar junta leader casts doubt on return of Rohingya refugees  A spokeswoman for the National Security Council declined to comment on the summit logistics.  But, in a statement, the NSC said this week's meeting between Sullivan and the Secretary of the Russian Security Council, Nikolay Patrushev, “was an important step in the preparation for a planned US-Russia summit” and deemed the discussions “constructive” despite “outstanding differences.”  The Biden first administration called for the summit last month after Russia engaged in a series of confrontational actions: temporarily amassing troops on the Ukrainian border, the SolarWinds hacking, reports of bounties placed on US troops in Afghanistan and the poisoning and imprisonment of opposition leader Alexei Navalny.\n",
      "\n",
      "\n",
      "Model Prediction: Not A Fake News \n"
     ]
    }
   ],
   "source": [
    "news = str(input())\n",
    "model_testing(news)"
   ]
  },
  {
   "cell_type": "code",
   "execution_count": null,
   "metadata": {},
   "outputs": [],
   "source": []
  }
 ],
 "metadata": {
  "kernelspec": {
   "display_name": "Python 3",
   "language": "python",
   "name": "python3"
  },
  "language_info": {
   "codemirror_mode": {
    "name": "ipython",
    "version": 3
   },
   "file_extension": ".py",
   "mimetype": "text/x-python",
   "name": "python",
   "nbconvert_exporter": "python",
   "pygments_lexer": "ipython3",
   "version": "3.8.5"
  }
 },
 "nbformat": 4,
 "nbformat_minor": 4
}
